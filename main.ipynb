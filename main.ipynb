{
 "cells": [
  {
   "cell_type": "code",
   "execution_count": 86,
   "metadata": {},
   "outputs": [],
   "source": [
    "import requests\n",
    "from bs4 import BeautifulSoup\n",
    "import pandas as pd\n",
    "import random\n",
    "import time"
   ]
  },
  {
   "cell_type": "code",
   "execution_count": 67,
   "metadata": {},
   "outputs": [],
   "source": [
    "headers = {\n",
    "    \"user-agent\": \"Mozilla/5.0 (Macintosh; Intel Mac OS X 10_15_7) AppleWebKit/537.36 (KHTML, like Gecko) Chrome/108.0.0.0 Safari/537.36\",\n",
    "    \"Cookie\": \"\"\"ubid-main=134-5936757-7447853; aws-target-visitor-id=1664421793462-332564.35_0; _mkto_trk=id:365-EFI-026&token:_mch-amazon.com-1664516896070-27386; AMCV_4A8581745834114C0A495E2B%40AdobeOrg=-2121179033%7CMCIDTS%7C19266%7CMCMID%7C12246670758091194210199356277681009451%7CMCAAMLH-1665121695%7C9%7CMCAAMB-1665121695%7CRKhpRz8krg2tLO6pguXWp5olkAcUniQYPHaMWWgdJ3xzPWQmdj0y%7CMCOPTOUT-1664524096s%7CNONE%7CMCAID%7CNONE%7CvVersion%7C5.3.0; mbox=session#3e8046ed388c401bacc26266646a52f2#1664518757|PC#3e8046ed388c401bacc26266646a52f2.35_0#1727761697; s_nr=1664516896453-New; s_lv=1664516896454; AMCV_7742037254C95E840A4C98A6%40AdobeOrg=1585540135%7CMCIDTS%7C19268%7CMCMID%7C11816054594718087900170928610304657024%7CMCAAMLH-1665346797%7C9%7CMCAAMB-1665346797%7CRKhpRz8krg2tLO6pguXWp5olkAcUniQYPHaMWWgdJ3xzPWQmdj0y%7CMCOPTOUT-1664749197s%7CNONE%7CMCAID%7CNONE%7CvVersion%7C4.4.0; aws-ubid-main=211-2122155-8650175; aws-session-id=135-3830019-9043757; aws-session-token=I0IGjNU6LQmTmII7nSvrUWH7yOyZLtAHiIZF15ygxSphj5GG0NOgCq+oiWtod2e92H6R1N+jW6xGHuObtE5iljlCv/Yg3pNNaTD2DrvYyqBGJaf7OKFzwrF7pfOjax2WqEvh+djH3x/0PpkgdYWYlDUBNH7ldSNcJw00F5aBWloOlFXXpC28WJL2n7bTdnPsxnOw/fLA5YEA/fzQBlsaA6SKGKb19EOUYYr6BtBol6ktEW0ZEQE4qgTZ2RPO+o/U; sess-aws-at-main=\"GxkIjxLca75iSgDVxOIG9JCJD0lgi4YnHGBfjCS2NPg=\"; regStatus=registered; aws-target-data=%7B%22support%22%3A%221%22%7D; aws-userInfo=%7B%22arn%22%3A%22arn%3Aaws%3Aiam%3A%3A367413547102%3Aroot%22%2C%22alias%22%3A%22%22%2C%22username%22%3A%22Samridhi%2520Mehra%22%2C%22keybase%22%3A%22%22%2C%22issuer%22%3A%22https%3A%2F%2Fwww.amazon.com%2Fap%2Fsignin%22%2C%22signinType%22%3A%22PUBLIC%22%7D; __utma=194891197.1769194129.1664742021.1664742021.1664861013.2; __utmz=194891197.1664861013.2.2.utmccn=(referral)|utmcsr=s3.console.aws.amazon.com|utmcct=/|utmcmd=referral; aws-session-id-time=2295581014l; x-main=\"BGiaf4?9c?p2ZolyoWTkpcwTXse@a8o5\"; at-main=Atza|IwEBIK4SBpRcZ4zRNtFbY-dCi0CYWITHLOohO8VxQ4jzdqLMUZANySl2B4BQs3dkFfENLFEyP655vm6LzX_RFEiPh5GL89aMSSNffBNmtJtyBkn9O3STWHDwSpr-4mNb_30HCEYwn3zMZoldA10Owbk3ePvK2mnGGa6rhEwyBw8sTMYp-8rRM9ah2e_Bb4H39OpcZ1LVCI81W_qD6HRF9CXJN3pq; sess-at-main=\"dDlh1DZ/3eTIUNIaoPCe799xprfhNP0+cZ1r20RiN70=\"; sst-main=Sst1|PQF6o3I9LAwFcGMem4WuXJRsCdLcUieyJKCXDusrxP0vWiL7h8S8ajKIvyKWKr4mKtsXnHb0PHMomQCdltKk8elz8kYigEFyuiIbpZ0ZWKzsp8QKTWQwy7j8acDqNLHaHryZRS5fAbubbnnyaEptxgy_dlMDo-9uuWpfrrg7wvRzDPyjj2ZzD3EIo13GfS-rLiRW2SfUuu51TYcJ3YgdbgqyPIkoxM3pgxx0p4zbxFz4eDahByD4QSiH4Gn5VlfSAK6GvD5bKGJKbkeueFWvskDTi51yl3VPoy8qraPaOGjCv4U; lc-main=en_US; i18n-prefs=USD; session-id=136-3455252-9050350; session-id-apay=136-3455252-9050350; session-id-time=2082787201l; skin=noskin; session-token=CwCU1eDAdFPnaDYn6RDoG5RyOdb36G2gxf91BImtE0v9u/eg1SmjwWKzKVI/CnkkgkAT2HQxGXJQZr7THMLVJWVBWNO4HOYHlKdqv2wOmwlxuKPtyhac6bJ9xO7vTXNFlvjzqjw49WmGHaHRG+FH52FB22pnYWs8BL2NWcCweKdw1gO3JKLZHmQcpy1EowK+WvQWxE3g8EHdPKZKwVWCOx13ayFfHsza0GEdCNG9cxBlHIXTelfUhnVxUG5w+BFc\"\"\"\n",
    "}"
   ]
  },
  {
   "cell_type": "code",
   "execution_count": 159,
   "metadata": {},
   "outputs": [],
   "source": [
    "def collect_ASINs(soup):\n",
    "    ASINs = []\n",
    "    best_sellers = soup.find_all(\"div\", {\"data-csa-c-content-id\": \"amzn1.sym.309d45c5-3eba-4f62-9bb2-0acdcf0662e7\"})\n",
    "    for row in best_sellers:\n",
    "        cards = row.find(\"ol\").find_all(\"li\")\n",
    "        for item in cards:\n",
    "            ASINs.append(item.find(\"div\", {\"class\": \"p13n-sc-uncoverable-faceout\"})[\"id\"])\n",
    "    return ASINs\n",
    "\n",
    "\n",
    "url = \"https://www.amazon.com/gp/bestsellers/?ref_=nav_cs_bestsellers\"\n",
    "response = requests.get(url=url, headers=headers)\n",
    "soup = BeautifulSoup(response.content, 'html.parser')\n",
    "\n",
    "asins = collect_ASINs(soup)"
   ]
  },
  {
   "cell_type": "code",
   "execution_count": 124,
   "metadata": {},
   "outputs": [],
   "source": [
    "def get_page_reviews(soup):\n",
    "    reviews = soup.find(\"div\", {\"id\": \"cm_cr-review_list\"}).find_all(\"div\", {\"data-hook\": \"review\"})\n",
    "    \n",
    "    data = []\n",
    "    \n",
    "    for review in reviews:\n",
    "        try:\n",
    "            data.append({\n",
    "                \"rating\": float(review.find(\"span\", {\"class\": \"a-icon-alt\"}).text.split(' ')[0]),\n",
    "                \"title\": review.find(\"a\", {\"data-hook\": \"review-title\"}).find(\"span\").text,\n",
    "                \"text\": review.find(\"span\", {\"data-hook\": \"review-body\"}).find(\"span\").text\n",
    "            })\n",
    "        except:\n",
    "            continue\n",
    "    \n",
    "    \n",
    "    \n",
    "    if data:\n",
    "        return pd.DataFrame(data)\n",
    "    else:\n",
    "        return None\n",
    "\n",
    "\n",
    "def get_all_reviews(ASIN):\n",
    "    reviews_df = pd.DataFrame(columns=[\"rating\",\"title\",\"text\"])\n",
    "    for i in range(1,1000):\n",
    "        time.sleep(random.uniform(1,5))\n",
    "        url = f\"https://www.amazon.com/product-reviews/{ASIN}/ref=cm_cr_arp_d_paging_btm_next_2?ie=UTF8&reviewerType=all_reviews&pageNumber={i}\"\n",
    "        response = requests.get(url=url, headers=headers)\n",
    "        soup = BeautifulSoup(response.content, 'html.parser')\n",
    "        new_reviews = get_page_reviews(soup)\n",
    "        if type(new_reviews) == type(None):\n",
    "            break\n",
    "        else:\n",
    "            reviews_df = pd.concat([reviews_df, new_reviews])\n",
    "            \n",
    "    return reviews_df\n"
   ]
  },
  {
   "cell_type": "code",
   "execution_count": 166,
   "metadata": {},
   "outputs": [],
   "source": [
    "df = pd.DataFrame(columns=[\"rating\",\"title\",\"text\"])\n",
    "\n",
    "for asin in asins:\n",
    "    time.sleep(random.uniform(5,15))\n",
    "    df = pd.concat([df, get_all_reviews(asin)])\n",
    "    break\n",
    "    \n",
    "df.to_csv(f\"{asin}.csv\")\n",
    "    "
   ]
  }
 ],
 "metadata": {
  "kernelspec": {
   "display_name": "Python 3.10.6 64-bit",
   "language": "python",
   "name": "python3"
  },
  "language_info": {
   "codemirror_mode": {
    "name": "ipython",
    "version": 3
   },
   "file_extension": ".py",
   "mimetype": "text/x-python",
   "name": "python",
   "nbconvert_exporter": "python",
   "pygments_lexer": "ipython3",
   "version": "3.10.6"
  },
  "orig_nbformat": 4,
  "vscode": {
   "interpreter": {
    "hash": "aee8b7b246df8f9039afb4144a1f6fd8d2ca17a180786b69acc140d282b71a49"
   }
  }
 },
 "nbformat": 4,
 "nbformat_minor": 2
}
