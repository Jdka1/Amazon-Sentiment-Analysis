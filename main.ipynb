{
 "cells": [
  {
   "attachments": {},
   "cell_type": "markdown",
   "metadata": {},
   "source": [
    "Scraping"
   ]
  },
  {
   "cell_type": "code",
   "execution_count": 1,
   "metadata": {},
   "outputs": [],
   "source": [
    "import requests\n",
    "from bs4 import BeautifulSoup\n",
    "import pandas as pd\n",
    "import random\n",
    "import time"
   ]
  },
  {
   "cell_type": "code",
   "execution_count": 2,
   "metadata": {},
   "outputs": [],
   "source": [
    "headers = {\n",
    "    \"user-agent\": \"Mozilla/5.0 (Macintosh; Intel Mac OS X 10_15_7) AppleWebKit/537.36 (KHTML, like Gecko) Chrome/108.0.0.0 Safari/537.36\",\n",
    "    \"Cookie\": \"\"\"ubid-main=134-5936757-7447853; aws-target-visitor-id=1664421793462-332564.35_0; _mkto_trk=id:365-EFI-026&token:_mch-amazon.com-1664516896070-27386; AMCV_4A8581745834114C0A495E2B%40AdobeOrg=-2121179033%7CMCIDTS%7C19266%7CMCMID%7C12246670758091194210199356277681009451%7CMCAAMLH-1665121695%7C9%7CMCAAMB-1665121695%7CRKhpRz8krg2tLO6pguXWp5olkAcUniQYPHaMWWgdJ3xzPWQmdj0y%7CMCOPTOUT-1664524096s%7CNONE%7CMCAID%7CNONE%7CvVersion%7C5.3.0; mbox=session#3e8046ed388c401bacc26266646a52f2#1664518757|PC#3e8046ed388c401bacc26266646a52f2.35_0#1727761697; s_nr=1664516896453-New; s_lv=1664516896454; AMCV_7742037254C95E840A4C98A6%40AdobeOrg=1585540135%7CMCIDTS%7C19268%7CMCMID%7C11816054594718087900170928610304657024%7CMCAAMLH-1665346797%7C9%7CMCAAMB-1665346797%7CRKhpRz8krg2tLO6pguXWp5olkAcUniQYPHaMWWgdJ3xzPWQmdj0y%7CMCOPTOUT-1664749197s%7CNONE%7CMCAID%7CNONE%7CvVersion%7C4.4.0; aws-ubid-main=211-2122155-8650175; aws-session-id=135-3830019-9043757; aws-session-token=I0IGjNU6LQmTmII7nSvrUWH7yOyZLtAHiIZF15ygxSphj5GG0NOgCq+oiWtod2e92H6R1N+jW6xGHuObtE5iljlCv/Yg3pNNaTD2DrvYyqBGJaf7OKFzwrF7pfOjax2WqEvh+djH3x/0PpkgdYWYlDUBNH7ldSNcJw00F5aBWloOlFXXpC28WJL2n7bTdnPsxnOw/fLA5YEA/fzQBlsaA6SKGKb19EOUYYr6BtBol6ktEW0ZEQE4qgTZ2RPO+o/U; sess-aws-at-main=\"GxkIjxLca75iSgDVxOIG9JCJD0lgi4YnHGBfjCS2NPg=\"; regStatus=registered; aws-target-data=%7B%22support%22%3A%221%22%7D; aws-userInfo=%7B%22arn%22%3A%22arn%3Aaws%3Aiam%3A%3A367413547102%3Aroot%22%2C%22alias%22%3A%22%22%2C%22username%22%3A%22Samridhi%2520Mehra%22%2C%22keybase%22%3A%22%22%2C%22issuer%22%3A%22https%3A%2F%2Fwww.amazon.com%2Fap%2Fsignin%22%2C%22signinType%22%3A%22PUBLIC%22%7D; __utma=194891197.1769194129.1664742021.1664742021.1664861013.2; __utmz=194891197.1664861013.2.2.utmccn=(referral)|utmcsr=s3.console.aws.amazon.com|utmcct=/|utmcmd=referral; aws-session-id-time=2295581014l; x-main=\"BGiaf4?9c?p2ZolyoWTkpcwTXse@a8o5\"; at-main=Atza|IwEBIK4SBpRcZ4zRNtFbY-dCi0CYWITHLOohO8VxQ4jzdqLMUZANySl2B4BQs3dkFfENLFEyP655vm6LzX_RFEiPh5GL89aMSSNffBNmtJtyBkn9O3STWHDwSpr-4mNb_30HCEYwn3zMZoldA10Owbk3ePvK2mnGGa6rhEwyBw8sTMYp-8rRM9ah2e_Bb4H39OpcZ1LVCI81W_qD6HRF9CXJN3pq; sess-at-main=\"dDlh1DZ/3eTIUNIaoPCe799xprfhNP0+cZ1r20RiN70=\"; sst-main=Sst1|PQF6o3I9LAwFcGMem4WuXJRsCdLcUieyJKCXDusrxP0vWiL7h8S8ajKIvyKWKr4mKtsXnHb0PHMomQCdltKk8elz8kYigEFyuiIbpZ0ZWKzsp8QKTWQwy7j8acDqNLHaHryZRS5fAbubbnnyaEptxgy_dlMDo-9uuWpfrrg7wvRzDPyjj2ZzD3EIo13GfS-rLiRW2SfUuu51TYcJ3YgdbgqyPIkoxM3pgxx0p4zbxFz4eDahByD4QSiH4Gn5VlfSAK6GvD5bKGJKbkeueFWvskDTi51yl3VPoy8qraPaOGjCv4U; lc-main=en_US; i18n-prefs=USD; session-id=136-3455252-9050350; session-id-apay=136-3455252-9050350; session-id-time=2082787201l; skin=noskin; session-token=CwCU1eDAdFPnaDYn6RDoG5RyOdb36G2gxf91BImtE0v9u/eg1SmjwWKzKVI/CnkkgkAT2HQxGXJQZr7THMLVJWVBWNO4HOYHlKdqv2wOmwlxuKPtyhac6bJ9xO7vTXNFlvjzqjw49WmGHaHRG+FH52FB22pnYWs8BL2NWcCweKdw1gO3JKLZHmQcpy1EowK+WvQWxE3g8EHdPKZKwVWCOx13ayFfHsza0GEdCNG9cxBlHIXTelfUhnVxUG5w+BFc\"\"\"\n",
    "}"
   ]
  },
  {
   "cell_type": "code",
   "execution_count": 3,
   "metadata": {},
   "outputs": [],
   "source": [
    "def collect_ASINs(soup):\n",
    "    ASINs = []\n",
    "    best_sellers = soup.find_all(\"div\", {\"data-csa-c-content-id\": \"amzn1.sym.309d45c5-3eba-4f62-9bb2-0acdcf0662e7\"})\n",
    "    for row in best_sellers:\n",
    "        cards = row.find(\"ol\").find_all(\"li\")\n",
    "        for item in cards:\n",
    "            ASINs.append(item.find(\"div\", {\"class\": \"p13n-sc-uncoverable-faceout\"})[\"id\"])\n",
    "    return ASINs\n",
    "\n",
    "\n",
    "url = \"https://www.amazon.com/gp/bestsellers/?ref_=nav_cs_bestsellers\"\n",
    "response = requests.get(url=url, headers=headers)\n",
    "soup = BeautifulSoup(response.content, 'html.parser')\n",
    "\n",
    "asins = collect_ASINs(soup)"
   ]
  },
  {
   "cell_type": "code",
   "execution_count": 4,
   "metadata": {},
   "outputs": [],
   "source": [
    "def get_page_reviews(soup):\n",
    "    try:\n",
    "        reviews = soup.find(\"div\", {\"id\": \"cm_cr-review_list\"}).find_all(\"div\", {\"data-hook\": \"review\"})\n",
    "    except:\n",
    "        return None\n",
    "    \n",
    "    data = []\n",
    "    \n",
    "    for review in reviews:\n",
    "        try:\n",
    "            data.append({\n",
    "                \"rating\": float(review.find(\"span\", {\"class\": \"a-icon-alt\"}).text.split(' ')[0]),\n",
    "                \"title\": review.find(\"a\", {\"data-hook\": \"review-title\"}).find(\"span\").text,\n",
    "                \"text\": review.find(\"span\", {\"data-hook\": \"review-body\"}).find(\"span\").text\n",
    "            })\n",
    "        except:\n",
    "            continue\n",
    "    \n",
    "    \n",
    "    \n",
    "    if data:\n",
    "        return pd.DataFrame(data)\n",
    "    else:\n",
    "        return None\n",
    "\n",
    "\n",
    "def get_all_reviews(ASIN):\n",
    "    reviews_df = pd.DataFrame(columns=[\"rating\",\"title\",\"text\"])\n",
    "    for i in range(1,100):\n",
    "        time.sleep(random.uniform(1,5))\n",
    "        url = f\"https://www.amazon.com/product-reviews/{ASIN}/ref=cm_cr_arp_d_paging_btm_next_2?ie=UTF8&reviewerType=all_reviews&pageNumber={i}\"\n",
    "        response = requests.get(url=url, headers=headers)\n",
    "        soup = BeautifulSoup(response.content, 'html.parser')\n",
    "        new_reviews = get_page_reviews(soup)\n",
    "        if type(new_reviews) == type(None):\n",
    "            break\n",
    "        else:\n",
    "            reviews_df = pd.concat([reviews_df, new_reviews])\n",
    "            \n",
    "    return reviews_df\n"
   ]
  },
  {
   "cell_type": "code",
   "execution_count": 98,
   "metadata": {},
   "outputs": [
    {
     "ename": "NameError",
     "evalue": "name 'asins' is not defined",
     "output_type": "error",
     "traceback": [
      "\u001b[0;31m---------------------------------------------------------------------------\u001b[0m",
      "\u001b[0;31mNameError\u001b[0m                                 Traceback (most recent call last)",
      "Cell \u001b[0;32mIn [98], line 4\u001b[0m\n\u001b[1;32m      1\u001b[0m df \u001b[39m=\u001b[39m pd\u001b[39m.\u001b[39mDataFrame(columns\u001b[39m=\u001b[39m[\u001b[39m\"\u001b[39m\u001b[39mrating\u001b[39m\u001b[39m\"\u001b[39m,\u001b[39m\"\u001b[39m\u001b[39mtitle\u001b[39m\u001b[39m\"\u001b[39m,\u001b[39m\"\u001b[39m\u001b[39mtext\u001b[39m\u001b[39m\"\u001b[39m])\n\u001b[0;32m----> 4\u001b[0m \u001b[39mfor\u001b[39;00m count, asin \u001b[39min\u001b[39;00m \u001b[39menumerate\u001b[39m(asins):\n\u001b[1;32m      5\u001b[0m     df \u001b[39m=\u001b[39m pd\u001b[39m.\u001b[39mconcat([df, get_all_reviews(asin)])\n\u001b[1;32m      6\u001b[0m     df\u001b[39m.\u001b[39mto_csv(\u001b[39mf\u001b[39m\u001b[39m\"\u001b[39m\u001b[39m{\u001b[39;00mcount\u001b[39m}\u001b[39;00m\u001b[39m.csv\u001b[39m\u001b[39m\"\u001b[39m)\n",
      "\u001b[0;31mNameError\u001b[0m: name 'asins' is not defined"
     ]
    }
   ],
   "source": [
    "df = pd.DataFrame(columns=[\"rating\",\"title\",\"text\"])\n",
    "\n",
    "\n",
    "for count, asin in enumerate(asins):\n",
    "    df = pd.concat([df, get_all_reviews(asin)])\n",
    "    df.to_csv(f\"{count}.csv\")\n",
    "    time.sleep(random.uniform(5,15))\n",
    "    \n",
    "\n",
    "    "
   ]
  },
  {
   "attachments": {},
   "cell_type": "markdown",
   "metadata": {},
   "source": [
    "Machine Learning"
   ]
  },
  {
   "cell_type": "code",
   "execution_count": 2,
   "metadata": {},
   "outputs": [],
   "source": [
    "import pandas as pd\n",
    "import numpy as np"
   ]
  },
  {
   "cell_type": "code",
   "execution_count": 3,
   "metadata": {},
   "outputs": [
    {
     "data": {
      "text/html": [
       "<div>\n",
       "<style scoped>\n",
       "    .dataframe tbody tr th:only-of-type {\n",
       "        vertical-align: middle;\n",
       "    }\n",
       "\n",
       "    .dataframe tbody tr th {\n",
       "        vertical-align: top;\n",
       "    }\n",
       "\n",
       "    .dataframe thead th {\n",
       "        text-align: right;\n",
       "    }\n",
       "</style>\n",
       "<table border=\"1\" class=\"dataframe\">\n",
       "  <thead>\n",
       "    <tr style=\"text-align: right;\">\n",
       "      <th></th>\n",
       "      <th>rating</th>\n",
       "      <th>title</th>\n",
       "      <th>text</th>\n",
       "    </tr>\n",
       "  </thead>\n",
       "  <tbody>\n",
       "    <tr>\n",
       "      <th>0</th>\n",
       "      <td>4.0</td>\n",
       "      <td>Works well on some surfaces</td>\n",
       "      <td>This is my first experience with this type of ...</td>\n",
       "    </tr>\n",
       "    <tr>\n",
       "      <th>1</th>\n",
       "      <td>5.0</td>\n",
       "      <td>Impressive</td>\n",
       "      <td>This worked better than I expected. I hated th...</td>\n",
       "    </tr>\n",
       "    <tr>\n",
       "      <th>2</th>\n",
       "      <td>5.0</td>\n",
       "      <td>Good but not so much if it's cold-Vine Review.</td>\n",
       "      <td>Honest Vine Review-It does get loose dust and ...</td>\n",
       "    </tr>\n",
       "    <tr>\n",
       "      <th>3</th>\n",
       "      <td>4.0</td>\n",
       "      <td>Overall good product.</td>\n",
       "      <td>I like this product overall. It’s easy to use....</td>\n",
       "    </tr>\n",
       "    <tr>\n",
       "      <th>4</th>\n",
       "      <td>4.0</td>\n",
       "      <td>Great for getting dirt out of small spaces!</td>\n",
       "      <td>This gel does an amazing job cleaning the dirt...</td>\n",
       "    </tr>\n",
       "    <tr>\n",
       "      <th>...</th>\n",
       "      <td>...</td>\n",
       "      <td>...</td>\n",
       "      <td>...</td>\n",
       "    </tr>\n",
       "    <tr>\n",
       "      <th>34164</th>\n",
       "      <td>4.0</td>\n",
       "      <td>Great Protection</td>\n",
       "      <td>These have protected my watch and is built wit...</td>\n",
       "    </tr>\n",
       "    <tr>\n",
       "      <th>34165</th>\n",
       "      <td>5.0</td>\n",
       "      <td>It protects your watch</td>\n",
       "      <td>Today it happened. I was fiddling with my watc...</td>\n",
       "    </tr>\n",
       "    <tr>\n",
       "      <th>34166</th>\n",
       "      <td>3.0</td>\n",
       "      <td>Pretty Color but a Few Issues</td>\n",
       "      <td>This is a two pack - one clear, one pink.The p...</td>\n",
       "    </tr>\n",
       "    <tr>\n",
       "      <th>34167</th>\n",
       "      <td>4.0</td>\n",
       "      <td>there’s pros and cons</td>\n",
       "      <td>Very easy to install, but you have to press a ...</td>\n",
       "    </tr>\n",
       "    <tr>\n",
       "      <th>34168</th>\n",
       "      <td>5.0</td>\n",
       "      <td>LOVE THIS!!!</td>\n",
       "      <td>I AM SO GLAD I LOOKED AT ALL THE REVIEWS AND P...</td>\n",
       "    </tr>\n",
       "  </tbody>\n",
       "</table>\n",
       "<p>34169 rows × 3 columns</p>\n",
       "</div>"
      ],
      "text/plain": [
       "       rating                                           title  \\\n",
       "0         4.0                     Works well on some surfaces   \n",
       "1         5.0                                      Impressive   \n",
       "2         5.0  Good but not so much if it's cold-Vine Review.   \n",
       "3         4.0                           Overall good product.   \n",
       "4         4.0     Great for getting dirt out of small spaces!   \n",
       "...       ...                                             ...   \n",
       "34164     4.0                                Great Protection   \n",
       "34165     5.0                          It protects your watch   \n",
       "34166     3.0                   Pretty Color but a Few Issues   \n",
       "34167     4.0                           there’s pros and cons   \n",
       "34168     5.0                                    LOVE THIS!!!   \n",
       "\n",
       "                                                    text  \n",
       "0      This is my first experience with this type of ...  \n",
       "1      This worked better than I expected. I hated th...  \n",
       "2      Honest Vine Review-It does get loose dust and ...  \n",
       "3      I like this product overall. It’s easy to use....  \n",
       "4      This gel does an amazing job cleaning the dirt...  \n",
       "...                                                  ...  \n",
       "34164  These have protected my watch and is built wit...  \n",
       "34165  Today it happened. I was fiddling with my watc...  \n",
       "34166  This is a two pack - one clear, one pink.The p...  \n",
       "34167  Very easy to install, but you have to press a ...  \n",
       "34168  I AM SO GLAD I LOOKED AT ALL THE REVIEWS AND P...  \n",
       "\n",
       "[34169 rows x 3 columns]"
      ]
     },
     "execution_count": 3,
     "metadata": {},
     "output_type": "execute_result"
    }
   ],
   "source": [
    "reviews_df = pd.read_csv('35.csv').drop(['Unnamed: 0'], axis=1)\n",
    "reviews_df"
   ]
  },
  {
   "attachments": {},
   "cell_type": "markdown",
   "metadata": {},
   "source": [
    "Combining the title and text for a full textual review because both fields can be used for word analysis"
   ]
  },
  {
   "cell_type": "code",
   "execution_count": 4,
   "metadata": {},
   "outputs": [],
   "source": [
    "reviews_df['review'] = reviews_df['title'] + ' ' + reviews_df['text']\n",
    "reviews_df = reviews_df.drop(['title','text'], axis=1)"
   ]
  },
  {
   "attachments": {},
   "cell_type": "markdown",
   "metadata": {},
   "source": [
    "Converting all the words to lowercase so they can be processed the same\n",
    "Also removing all emojis"
   ]
  },
  {
   "cell_type": "code",
   "execution_count": 43,
   "metadata": {},
   "outputs": [],
   "source": [
    "import demoji\n",
    "\n",
    "reviews_df = reviews_df.dropna()\n",
    "reviews_df['review'] = list(map(lambda review: review.lower(), reviews_df['review']))\n",
    "\n",
    "\n",
    "cleaned_reviews = []\n",
    "\n",
    "for review in reviews_df['review']:\n",
    "    review_emojis = demoji.findall_list(review, desc=False)\n",
    "    if review_emojis != []:\n",
    "        for emoji in review_emojis:\n",
    "            review = review.replace(emoji, '')\n",
    "    cleaned_reviews.append(review)\n",
    "\n",
    "reviews_df['review'] = cleaned_reviews\n"
   ]
  },
  {
   "cell_type": "code",
   "execution_count": 50,
   "metadata": {},
   "outputs": [
    {
     "name": "stderr",
     "output_type": "stream",
     "text": [
      "/var/folders/06/kvt42vp15b106w3b8f5s1k540000gn/T/ipykernel_34916/591390728.py:1: FutureWarning: The behavior of `series[i:j]` with an integer-dtype index is deprecated. In a future version, this will be treated as *label-based* indexing, consistent with e.g. `series[i]` lookups. To retain the old behavior, use `series.iloc[i:j]`. To get the future behavior, use `series.loc[i:j]`.\n",
      "  demoji.findall(''.join(reviews_df['review'][:100000]))\n"
     ]
    },
    {
     "data": {
      "text/plain": [
       "{}"
      ]
     },
     "execution_count": 50,
     "metadata": {},
     "output_type": "execute_result"
    }
   ],
   "source": [
    "demoji.findall(''.join(reviews_df['review'][:100000]))"
   ]
  }
 ],
 "metadata": {
  "kernelspec": {
   "display_name": "Python 3",
   "language": "python",
   "name": "python3"
  },
  "language_info": {
   "codemirror_mode": {
    "name": "ipython",
    "version": 3
   },
   "file_extension": ".py",
   "mimetype": "text/x-python",
   "name": "python",
   "nbconvert_exporter": "python",
   "pygments_lexer": "ipython3",
   "version": "3.9.6"
  },
  "orig_nbformat": 4,
  "vscode": {
   "interpreter": {
    "hash": "31f2aee4e71d21fbe5cf8b01ff0e069b9275f58929596ceb00d14d90e3e16cd6"
   }
  }
 },
 "nbformat": 4,
 "nbformat_minor": 2
}
